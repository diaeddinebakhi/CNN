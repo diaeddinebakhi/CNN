{
 "cells": [
  {
   "cell_type": "markdown",
   "execution_count": null,
   "metadata": {},
   "source": [
    "![](https://i.imgur.com/qQP7mg3.png)"
   ]
  },
  {
   "cell_type": "markdown",
   "execution_count": null,
   "metadata": {},
   "source": [
    "# 1. Introduction\n",
    "\n",
    "This notebook is just me being frustrated on **deep learning** and trying to understand in \"baby steps\" what is going on here. For somebody that starts in this area with no background whatsoever it can be very confusing, especially because I seem to be unable to find code with many explanations and comments.\n",
    "\n",
    "So, if you are frustrated just like I was when I started this stuff I hope the following guidelines will help you. I am by no means a teacher, but in this notebook I will:\n",
    "1. Share articles/videos I watched that TRULY helped\n",
    "2. Explain code along the way to the best of my ability\n",
    "\n",
    "<div class=\"alert alert-block alert-warning\"> \n",
    "<strong>Note</strong>: Deep learning coding is VERY different in structure than the usual <em>sklearn</em> for machine learning. In addition, it usually works with <em>images</em> and <em>text</em>, while <em>ML</em> usually works with <em>tabular</em> data. So please, be patient with yourself and if you don't understand something right away, continue reading/ coding and it will all make sense in the end.\n",
    "</div>\n",
    "\n",
    "# 2. Before we start\n",
    "\n",
    "> This is my first notebook in the \"series\": **How I taught myself Deep Learning**.\n",
    "1. **[How I taught myself Deep Learning: ConvNet (CNNs)](https://www.kaggle.com/andradaolteanu/how-i-taught-myself-deep-learning-convnet-cnns)**\n",
    "        * Why ConvNets\n",
    "        * Convolutions Explained\n",
    "        * Computing Activation Maps\n",
    "        * Kernels, Padding, Stride\n",
    "        * AlexNet\n",
    "        * MNIST Classification using Convolutions\n",
    "2. **[How I taught myself Deep Learning: Recurrent NNs](https://www.kaggle.com/andradaolteanu/how-i-taught-myself-deep-learning-recurrent-nns)**\n",
    "        * 1 Layer RNNs\n",
    "        * Multiple Neurons RNN\n",
    "        * Vanilla RNN for MNIST Classification\n",
    "        * Multilayer RNNs\n",
    "        * Tanh Activation Function\n",
    "        * Multilayer RNN for MNIST\n",
    "        * LSTMs and Vanishing Gradient Problem\n",
    "        * Bidirectional LSTMs\n",
    "        * LSTM for MNIST Classification      \n",
    "\n",
    "<img src='https://miro.medium.com/max/1200/1*4br4WmxNo0jkcsY796jGDQ.jpeg' width=200>\n",
    "`Pytorch`: This is the library we will be using; it is allegedly much easier than `Keras` and it's starting to make a breakthrough nowadays. Pytorch has a *different structure* than the normal *machine learning* code in *sklearn*. So be aware!\n",
    "\n",
    "`Tensors`: Instead of working with tabular data or `numpy` arrays, we'll be working with tensors. [A tensor is a container which can house data in N dimensions](https://www.kdnuggets.com/2018/05/wtf-tensor.html).\n",
    "\n",
    "<img src='https://hadrienj.github.io/assets/images/2.1/scalar-vector-matrix-tensor.png' width='300'>\n",
    "\n",
    "So, to not complicate ourselves, `tensors` are *very* similar with `numpy arrays`, but they offer much better GPU support, so they are faster. Let's take a look:"
   ]
  },
  {
   "cell_type": "code",
   "execution_count": 1,
   "metadata": {
    "_cell_guid": "b1076dfc-b9ad-4769-8c92-a6c4dae69d19",
    "_uuid": "8f2839f25d086af736a60e9eeb907d3b93b6e0e5"
   },
   "outputs": [
    {
     "name": "stdout",
     "output_type": "stream",
     "text": [
      "tensor([[1.4587e-19, 1.1703e-19, 1.5637e-01],\n",
      "        [2.9560e+21, 1.1286e+27, 1.7255e+25],\n",
      "        [1.8523e+28, 1.2402e-14, 3.2487e+33],\n",
      "        [5.8687e-02, 7.2443e+22, 1.3556e-19],\n",
      "        [7.2053e+22, 4.7428e+30, 8.1717e-07]]) \n",
      "\n",
      "tensor([[1, 1, 1],\n",
      "        [1, 1, 1],\n",
      "        [1, 1, 1],\n",
      "        [1, 1, 1],\n",
      "        [1, 1, 1]]) \n",
      "\n",
      "tensor([[0, 1, 2],\n",
      "        [3, 4, 5]])\n"
     ]
    }
   ],
   "source": [
    "# Import torch\n",
    "import torch\n",
    "\n",
    "# Create some tensors\n",
    "x = torch.empty(5, 3)\n",
    "print(x, '\\n')\n",
    "\n",
    "y = torch.ones(5, 3, dtype=torch.long)\n",
    "print(y, '\\n')\n",
    "\n",
    "z = torch.tensor([[0, 1, 2], [3, 4, 5]])\n",
    "print(z)"
   ]
  },
  {
   "cell_type": "markdown",
   "execution_count": null,
   "metadata": {},
   "source": [
    "# 3. What are Neural Networks?\n",
    "\n",
    "## 3.1 Youtube Videos that will save you time:\n",
    "\n",
    "There are 2 **super informative** videos on Youtube from *3Blue1Brown* that explain very well what neural networks are and what is an FNN: Feed Foward Neural Network. I **highly recommend** taking ~20 minutes and  watching them before going any further (it is always better to visualise than rather read to understand abstract concepts). \n",
    "\n",
    "<div class=\"alert alert-block alert-info\">\n",
    "<img src='https://upload.wikimedia.org/wikipedia/commons/b/ba/3B1B_Logo.png' width='50' align='left'></img>\n",
    "<p><a href='https://www.youtube.com/watch?v=aircAruvnKk&t=1007s'>What are Neural Networks?</a></p>\n",
    "<p><a href='https://www.youtube.com/watch?v=IHZwWFHWa-w'>How do Neural Networks learn?</a></p>\n",
    "</div>\n",
    "\n",
    "## 3.2 The Perceptron:\n",
    "\n",
    "A **Perceptron** is a single layer neural network, while a **Multi Layer Perceptron** is called a Neural Network. \n",
    "\n",
    "I **highly suggest** reading [this blog post](https://towardsdatascience.com/what-the-hell-is-perceptron-626217814f53) for some very good explanations.\n",
    "\n",
    "<img src = 'https://i.imgur.com/IHgw2au.png' width='400'>\n",
    "\n",
    "## 3.3 How does a plain Vanilla Neural Network look?\n",
    "Plain vanilla Neural Networks (or Feed Forward Neural Networks, FNNs for the lazy people 😎) have the most simple architecture in the Neural Networks realm, but their basics will help you understand much more complicated dinosaurs moving on.\n",
    "\n",
    "> Pro Tip: Use [this site](http://alexlenail.me/NN-SVG/index.html) to construct your own FNN (it can be dreadful to draw lines by yourself).\n",
    "\n",
    "<img src='https://i.imgur.com/wqHC1T4.png' width='600'>\n",
    "\n",
    "We have 1 example of an FNN: our network is already trained to receive an B&W image and create the `output` 1 if the image is a cat and 0 otherwise. Therefore, the FNN is a Classifier. Let's break down the steps:\n",
    "1. Input: An image of a cat with `height` = 10 pixels, `length` = 20 pixels and `channels` = 1 (because is B&W; for RGB images, the number of channels is 3).\n",
    "2. The image (composed by numbers as you saw in the above videos) is therefore a matrix of shape `[1, 10, 20]`.\n",
    "3. Layer1: Because the input in the FNN must be **linear**, the matrix is **vectorized** by reshaping it into a vector of size `[200]`.\n",
    "4. Layer2: the first layer is multiplied by the weights and formes the second layer, composed by `[300]` neurons\n",
    "5. Layer3: The last hidden layer is composed of `[400]` neurons\n",
    "6. Output: It is composed of 1 single neuron, which **fires** the value 1 if the image is a cat or 0 otherwise.\n",
    "\n",
    "## 3.4 Why so deep? Deep vs Shallow Networks\n",
    "\n",
    "First of all, the FNN isn't really doing anything special that a simple ML can't achieve. The beauty in Deep Learning is actually the amount of data and computations that can be handled much better than in an usual ML algorithm.\n",
    "\n",
    "In Feed Foward Neural Nets, the hidden layers gradually /increase/decrease in hidden size (number of neurons) so more and more **details** of the input (images, text etc.) can be grasped.\n",
    "\n",
    "<img src='https://i.imgur.com/D8QhLWM.png' width=350>\n",
    "\n",
    "It is known that Deep Neural Nets (thin and tall) are **better** than Shallow ones (fat and short). This happens because the deep ones can learn more and more abstract representations the *deeper* you go. Also, the number of parameters is smaller so the training is faster.\n",
    "\n",
    "... Let's start programming.\n",
    "\n",
    "# 4. The Data - MNIST\n",
    "\n",
    "We'll be working in MNIST Dataset, which is usually the go-to dataset when starting in Neural Networks. Nevertheless, you can apply the following principles on any datasets (images, text, tabular data, audio data), as **all data can be represented in numbers**. Cuz this is just it: numbers."
   ]
  },
  {
   "cell_type": "code",
   "execution_count": 2,
   "metadata": {},
   "outputs": [],
   "source": [
    "# Imports\n",
    "import torch\n",
    "import torch.nn as nn                               # to access build-in functions to build the NN\n",
    "import torch.nn.functional as F                     # to access activation functions\n",
    "from torchvision import datasets, transforms        # to access the MNIST dataset\n",
    "import torch.optim as optim                         # to build out optimizer\n",
    "\n",
    "import numpy as np\n",
    "import matplotlib.pyplot as plt # for plotting\n",
    "%matplotlib inline\n",
    "import seaborn as sns\n",
    "import sklearn.metrics"
   ]
  },
  {
   "cell_type": "code",
   "execution_count": 3,
   "metadata": {
    "_kg_hide-output": true
   },
   "outputs": [
    {
     "name": "stdout",
     "output_type": "stream",
     "text": [
      "Downloading http://yann.lecun.com/exdb/mnist/train-images-idx3-ubyte.gz to data/MNIST/raw/train-images-idx3-ubyte.gz\n"
     ]
    },
    {
     "data": {
      "application/vnd.jupyter.widget-view+json": {
       "model_id": "8c8e8f74e00042b5a398fb13a4abe501",
       "version_major": 2,
       "version_minor": 0
      },
      "text/plain": [
       "HBox(children=(FloatProgress(value=1.0, bar_style='info', max=1.0), HTML(value='')))"
      ]
     },
     "metadata": {},
     "output_type": "display_data"
    },
    {
     "name": "stdout",
     "output_type": "stream",
     "text": [
      "Extracting data/MNIST/raw/train-images-idx3-ubyte.gz to data/MNIST/raw\n",
      "Downloading http://yann.lecun.com/exdb/mnist/train-labels-idx1-ubyte.gz to data/MNIST/raw/train-labels-idx1-ubyte.gz\n"
     ]
    },
    {
     "data": {
      "application/vnd.jupyter.widget-view+json": {
       "model_id": "4c0b35f8a87d458995c8716ccbd00a6a",
       "version_major": 2,
       "version_minor": 0
      },
      "text/plain": [
       "HBox(children=(FloatProgress(value=1.0, bar_style='info', max=1.0), HTML(value='')))"
      ]
     },
     "metadata": {},
     "output_type": "display_data"
    },
    {
     "name": "stdout",
     "output_type": "stream",
     "text": [
      "Extracting data/MNIST/raw/train-labels-idx1-ubyte.gz to data/MNIST/raw\n",
      "Downloading http://yann.lecun.com/exdb/mnist/t10k-images-idx3-ubyte.gz to data/MNIST/raw/t10k-images-idx3-ubyte.gz\n"
     ]
    },
    {
     "data": {
      "application/vnd.jupyter.widget-view+json": {
       "model_id": "f164b42e248e45a8aa2d0de24d2d32d3",
       "version_major": 2,
       "version_minor": 0
      },
      "text/plain": [
       "HBox(children=(FloatProgress(value=1.0, bar_style='info', max=1.0), HTML(value='')))"
      ]
     },
     "metadata": {},
     "output_type": "display_data"
    },
    {
     "name": "stdout",
     "output_type": "stream",
     "text": [
      "Extracting data/MNIST/raw/t10k-images-idx3-ubyte.gz to data/MNIST/raw\n",
      "Downloading http://yann.lecun.com/exdb/mnist/t10k-labels-idx1-ubyte.gz to data/MNIST/raw/t10k-labels-idx1-ubyte.gz\n",
      "\n",
      "\n"
     ]
    },
    {
     "data": {
      "application/vnd.jupyter.widget-view+json": {
       "model_id": "591e9628145143ea865361154ffa024d",
       "version_major": 2,
       "version_minor": 0
      },
      "text/plain": [
       "HBox(children=(FloatProgress(value=1.0, bar_style='info', max=1.0), HTML(value='')))"
      ]
     },
     "metadata": {},
     "output_type": "display_data"
    },
    {
     "name": "stdout",
     "output_type": "stream",
     "text": [
      "Extracting data/MNIST/raw/t10k-labels-idx1-ubyte.gz to data/MNIST/raw\n",
      "Processing...\n",
      "Done!\n"
     ]
    }
   ],
   "source": [
    "# Load in the data from torchvision datasets \n",
    "# train=True to access training images and train=False to access test images\n",
    "# We also transform to Tensors the images\n",
    "mnist_train = datasets.MNIST('data', train = True, download = True, transform=transforms.ToTensor())\n",
    "mnist_test = datasets.MNIST('data', train = False, download = True, transform=transforms.ToTensor())"
   ]
  },
  {
   "cell_type": "code",
   "execution_count": 4,
   "metadata": {},
   "outputs": [
    {
     "name": "stdout",
     "output_type": "stream",
     "text": [
      "Structure of train data: Dataset MNIST\n",
      "    Number of datapoints: 60000\n",
      "    Root location: data\n",
      "    Split: Train\n",
      "    StandardTransform\n",
      "Transform: ToTensor() \n",
      "\n",
      "Structure of test data: Dataset MNIST\n",
      "    Number of datapoints: 10000\n",
      "    Root location: data\n",
      "    Split: Test\n",
      "    StandardTransform\n",
      "Transform: ToTensor() \n",
      "\n",
      "\n",
      "\n",
      "Image on index 0 shape: torch.Size([1, 28, 28])\n",
      "Image on index 0 label: 5\n"
     ]
    }
   ],
   "source": [
    "# How the object looks:\n",
    "print('Structure of train data:', mnist_train, '\\n')\n",
    "print('Structure of test data:', mnist_test, '\\n')\n",
    "print('Image on index 0 shape:', list(mnist_train)[0][0].shape)\n",
    "print('Image on index 0 label:', list(mnist_train)[0][1])"
   ]
  },
  {
   "cell_type": "code",
   "execution_count": 5,
   "metadata": {},
   "outputs": [
    {
     "data": {
      "image/png": "[encoded data removed]",
      "text/plain": [
       "<Figure size 1152x216 with 16 Axes>"
      ]
     },
     "metadata": {
      "needs_background": "light"
     },
     "output_type": "display_data"
    }
   ],
   "source": [
    "# Check a sample of the images\n",
    "# We need to import again, because our train and test data are Tensors already\n",
    "sample = datasets.MNIST('data', train=True, download=True)\n",
    "\n",
    "plt.figure(figsize = (16, 3))\n",
    "for k, (image, label) in enumerate(sample):\n",
    "    if k >= 16:\n",
    "        break\n",
    "    plt.subplot(2, 8, k+1)\n",
    "    plt.imshow(image)"
   ]
  },
  {
   "cell_type": "markdown",
   "execution_count": null,
   "metadata": {},
   "source": [
    "# 5. Vanilla FNN Neural Network\n",
    "\n",
    "When working with neural networks you actually NEED to define a class for yourself. For example, when you're building a `RandomForestClassifier()`, sklearn already has that made for you. So, you just *call* the object from the library and afterwards just fine tune the hyperparameters.\n",
    "\n",
    "For Neural Networks is different: they can be so volatile, depending on the structure of your input (eg. an image of shape `[3, 500, 250]`), number of `hidden layers`, number of `neurons` in each hidden layer, weather or not you want to call the `Dropout()` functions etc. You can also build multiple neural networks and then combine them in another one (for example in a Sequence2Sequence RNN).\n",
    "\n",
    "So, here we will create our own neural net:\n",
    "\n",
    ">Note: you can ignore the `prints`, I usually put them to understand what the network does when you click *run*\n",
    "\n",
    "> Note2: `super()` function is there because the `MNISTClassifier` class inherits attributes from it's parent class `nn.Module`. By calling this function we make this possible. Removing it would lead to an *error*."
   ]
  },
  {
   "cell_type": "code",
   "execution_count": 6,
   "metadata": {},
   "outputs": [],
   "source": [
    "# Creating the Network:\n",
    "class MNISTClassifier(nn.Module):                           # nn.Module is a subclass from which we inherit\n",
    "    def __init__(self):                                     # Here you define the structure\n",
    "        super(MNISTClassifier, self).__init__()             \n",
    "        self.layers = nn.Sequential(nn.Linear(28*28, 50),   # Create first layer: from 784 neurons to 50\n",
    "                                    nn.ReLU(),              # Call activation function\n",
    "                                    nn.Linear(50, 20),      # Second layer: from 50 neurons to 20\n",
    "                                    nn.ReLU(),              # Call Activation function\n",
    "                                    nn.Linear(20, 10))      # Last layer: from 20 neurons to 10\n",
    "        # 10 because we have 10 categories of numbers from which we need to pick 1\n",
    "        # If we would have wanted to classify images labeled \"dog\", \"cat\", \"crocodile\",\n",
    "           # the final layer would have had 3 neurons.\n",
    "        \n",
    "    def forward(self, image, prints=False):                 # Function where you take the image though the FNN\n",
    "        if prints: print('Image shape:', image.shape)\n",
    "        image = image.view(-1, 28*28)                       # Flatten image: from [1, 28, 28] to [784]\n",
    "        if prints: print('Image reshaped:', image.shape)\n",
    "        out = self.layers(image)                            # Create Log Probabilities\n",
    "        if prints: print('Out shape:', out.shape)\n",
    "        \n",
    "        return out"
   ]
  },
  {
   "cell_type": "markdown",
   "execution_count": null,
   "metadata": {},
   "source": [
    "That was a lot. Please, bear with me.\n",
    "\n",
    "## 5.1 Activation Functions\n",
    "An activation function is a fancy way of saying that we are making the output of each neuron *nonlinear*, because we WANT to learn non-linear relationships between the input and the output.\n",
    "\n",
    "There are maaany types of activation functions, but some of them are:\n",
    "\n",
    "### Rectifier Linear Unit (ReLu)\n",
    "The function is linear when the activation is above zero, and is equal to zero otherwise.\n",
    "<img src=\"https://miro.medium.com/max/1026/0*g9ypL5M3k-f7EW85.png\" width=\"350\">\n",
    "\n",
    "### Sigmoid\n",
    "The sigmoid function has a tilted \"S\" shape, and its output is always between 0 and 1. They are *interpreted as probabilities* (probability of input to be digit 1, probability of input to be digit 2 etc.).\n",
    "<img src=\"https://miro.medium.com/max/4000/1*JHWL_71qml0kP_Imyx4zBg.png\" width=\"350\">\n",
    "\n",
    "### Tanh\n",
    "A variation of the Sigmoid, but it outputs values between -1 and 1.\n",
    "<img src=\"https://mathworld.wolfram.com/images/interactive/TanhReal.gif\" width=\"300\">\n",
    "\n",
    "These Activation Functions squish the neuron's output between the 2 values, preventing big numbers becoming much bigger and small numbers becoming much smaller.\n",
    "\n",
    "## 5.2 Making a Forward Pass\n",
    "\n",
    "A forward pass is when you take the images one by one (or batch by batch, we'll come back to this) and we put them through the neural network, which outputs for each a log probability (10 in out case).\n",
    "\n",
    "Let's look at 1 example:\n",
    "\n",
    "<img src='https://i.imgur.com/ywMFtDz.png' width='600'>"
   ]
  },
  {
   "cell_type": "code",
   "execution_count": 7,
   "metadata": {},
   "outputs": [
    {
     "name": "stdout",
     "output_type": "stream",
     "text": [
      "Image shape: torch.Size([1, 28, 28])\n",
      "Label: 5 \n",
      "\n",
      "MNISTClassifier(\n",
      "  (layers): Sequential(\n",
      "    (0): Linear(in_features=784, out_features=50, bias=True)\n",
      "    (1): ReLU()\n",
      "    (2): Linear(in_features=50, out_features=20, bias=True)\n",
      "    (3): ReLU()\n",
      "    (4): Linear(in_features=20, out_features=10, bias=True)\n",
      "  )\n",
      ") \n",
      "\n",
      "Image shape: torch.Size([1, 28, 28])\n",
      "Image reshaped: torch.Size([1, 784])\n",
      "Out shape: torch.Size([1, 10])\n",
      "out: tensor([[-0.0371,  0.2867, -0.0227,  0.1967,  0.1084,  0.0576, -0.0036, -0.0246,\n",
      "         -0.2160,  0.1166]], grad_fn=<AddmmBackward>) \n",
      "\n",
      "prediction: tensor([1])\n"
     ]
    }
   ],
   "source": [
    "torch.manual_seed(1) # set the random seed\n",
    "np.random.seed(1) #set random seed in numpy\n",
    "\n",
    "# Selecting 1 image with its label\n",
    "image_example, label_example = mnist_train[0]\n",
    "print('Image shape:', image_example.shape)\n",
    "print('Label:', label_example, '\\n')\n",
    "\n",
    "# Creating an instance of the model\n",
    "model_example = MNISTClassifier()\n",
    "print(model_example, '\\n')\n",
    "\n",
    "# Creating the log probabilities\n",
    "out = model_example(image_example, prints=True)\n",
    "print('out:', out, '\\n')\n",
    "\n",
    "# Choose maximum probability and then select only the label (not the prob number)\n",
    "prediction = out.max(dim=1)[1]\n",
    "print('prediction:', prediction)"
   ]
  },
  {
   "cell_type": "markdown",
   "execution_count": null,
   "metadata": {},
   "source": [
    "The prediction is wrong! Keep in mind the model is NOT trained yet, so of course the prediction is not accurate.\n",
    "\n",
    "## 5.3 Backpropagation\n",
    "\n",
    "So, the purpose is to UPDATE the weights and biases in the neural network so it *learns* to recognize the digits and accurately classify them. This is done during backpropagation, when the model literally goes back and updates the parameters (weights) a little bit. Before going any further, I highly recommend watching the following video which explains the concept of Backpropagation.\n",
    "\n",
    "<div class=\"alert alert-block alert-info\">\n",
    "<img src='https://upload.wikimedia.org/wikipedia/commons/b/ba/3B1B_Logo.png' width='50' align='left'></img>\n",
    "<p><a href='https://www.youtube.com/watch?v=Ilg3gGewQ5U&list=PLZHQObOWTQDNU6R1_67000Dx_ZCJB-3pi&index=3'>What is Backpropagation really doing?</a></p>\n",
    "<p>Cheers again to 3Blue1Brown for his amazing structured videos.</p>\n",
    "</div>\n",
    "\n",
    "### 5.3.1 Loss and Optimizer Functions:\n",
    "\n",
    "These 2 are like brother and sister: work hand in hand during the neural network training. They change by the case, but their main purpose is the same:\n",
    "\n",
    "**Loss Function (`criterion`): given an output and an actual, it computes the difference between them**\n",
    "* Regressive loss functions:\n",
    "    * MAE: `torch.nn.L1Loss()`\n",
    "    * MSE: `torch.nn.MSELoss()` etc.\n",
    "* Classification loss functions:\n",
    "    * Cross Entropy Loss: `torch.nn.CrossEntropyLoss()`\n",
    "    * Binary Cross Entropy Loss: `torch.nn.BCELoss()` etc.\n",
    "* Embedding Loss functions (whether 2 inputs are similar or not):\n",
    "    * Hinge Loss: `torch.nn.HingeEmbeddingLoss()`\n",
    "    * Cosine Loss: `torch.nn.CosineEmbeddingLoss()` etc.\n",
    "\n",
    "**Optimizer Function (`torch.optim`): updates the weights and biases to REDUCE the loss**\n",
    "* Examples:\n",
    "    * Stochastic Gradient Descent: `SGD()`\n",
    "    * Adam: `Adam()`\n",
    "    * Adagrad: `Adagrad()`\n",
    "    \n",
    "Different neural networks and purposes can require different loss and optimizer functions. Click [here](https://pytorch.org/docs/stable/nn.html) to check all of them."
   ]
  },
  {
   "cell_type": "code",
   "execution_count": 8,
   "metadata": {},
   "outputs": [
    {
     "name": "stdout",
     "output_type": "stream",
     "text": [
      "Criterion: CrossEntropyLoss() \n",
      "\n",
      "Optimizer: SGD (\n",
      "Parameter Group 0\n",
      "    dampening: 0\n",
      "    lr: 0.005\n",
      "    momentum: 0.9\n",
      "    nesterov: False\n",
      "    weight_decay: 0\n",
      ")\n"
     ]
    }
   ],
   "source": [
    "# Creating LOSS and Optimizer instances\n",
    "\n",
    "# Loss is the function that calculates how far is the prediction from the true value\n",
    "criterion = nn.CrossEntropyLoss()\n",
    "print('Criterion:', criterion, '\\n')\n",
    "\n",
    "# Using this loss the Optimizer computes the gradients of each neuron and updates the weights\n",
    "optimizer = optim.SGD(model_example.parameters(), lr=0.005, momentum=0.9)\n",
    "print('Optimizer:', optimizer)"
   ]
  },
  {
   "cell_type": "markdown",
   "execution_count": null,
   "metadata": {},
   "source": [
    "### 5.3.2 MNISTClassifier trainable parameters:\n",
    "* 1 : torch.Size([50, 784]) - 50 weights (or parameters) for each 28x28 neurons (28x28x50 weights in total)\n",
    "* 2 : torch.Size([50]) - 50 biases\n",
    "* 3 : torch.Size([20, 50]) - 20 weights (or parameters) for each 50 neurons (50x20 weights in total)\n",
    "* 4 : torch.Size([20]) - 20 biases\n",
    "* 5 : torch.Size([10, 20]) - 10 weights (or parameters) for each 20 neurons (10x20 weights in total)\n",
    "* 6 : torch.Size([10]) - value of the final neurons (the log probabilities)"
   ]
  },
  {
   "cell_type": "code",
   "execution_count": 9,
   "metadata": {},
   "outputs": [
    {
     "name": "stdout",
     "output_type": "stream",
     "text": [
      "1 : torch.Size([50, 784])\n",
      "2 : torch.Size([50])\n",
      "3 : torch.Size([20, 50])\n",
      "4 : torch.Size([20])\n",
      "5 : torch.Size([10, 20])\n",
      "6 : torch.Size([10])\n"
     ]
    }
   ],
   "source": [
    "# Let's also look at how many parameters (weights and biases) are updating during 1 single backpropagation\n",
    "# Parameter Understanding\n",
    "for i in range(6):\n",
    "    print(i+1, ':', list(model_example.parameters())[i].shape)"
   ]
  },
  {
   "cell_type": "markdown",
   "execution_count": null,
   "metadata": {},
   "source": [
    "### 5.3.3 Do 1 backpropagation: Compute the LOSS and OPTIMIZE for our images_example:"
   ]
  },
  {
   "cell_type": "code",
   "execution_count": 10,
   "metadata": {},
   "outputs": [
    {
     "name": "stdout",
     "output_type": "stream",
     "text": [
      "Log Probabilities: tensor([[-0.0371,  0.2867, -0.0227,  0.1967,  0.1084,  0.0576, -0.0036, -0.0246,\n",
      "         -0.2160,  0.1166]], grad_fn=<AddmmBackward>)\n",
      "Actual value: tensor([5])\n",
      "Loss: tensor(2.3000, grad_fn=<NllLossBackward>)\n"
     ]
    }
   ],
   "source": [
    "torch.manual_seed(1) # set the random seed\n",
    "np.random.seed(1) #set random seed in numpy\n",
    "\n",
    "print('Log Probabilities:', out)\n",
    "print('Actual value:', torch.tensor(label_example).reshape(-1))\n",
    "\n",
    "# Clear gradients - always needs to be called before backpropagation\n",
    "optimizer.zero_grad()\n",
    "# Compute loss\n",
    "loss = criterion(out, torch.tensor(label_example).reshape(-1))\n",
    "print('Loss:', loss)\n",
    "# Compute Gradients\n",
    "loss.backward()\n",
    "# Update weights\n",
    "optimizer.step()\n",
    "\n",
    "# After this 1 iteration the weights have updated once"
   ]
  },
  {
   "cell_type": "markdown",
   "execution_count": null,
   "metadata": {},
   "source": [
    "Until now we:\n",
    "1. Created a Vanilla FNN\n",
    "2. Took 1 image through the network and create prediction\n",
    "3. Look at the prediction vs actual and computed the loss\n",
    "4. Using the loss we updated the weights and biases\n",
    "\n",
    "This is called training. The next chapters will be dedicated to training the network and improving it.\n",
    "\n",
    "# 6. Training the Neural Network\n",
    "Our purpose now that we have the structure in place and the data is to make the Vanilla FNN perform well.\n",
    "\n",
    "## 6.1 Batches\n",
    "With an artificial neural network, we may want to use more than one image at one time. That way, we can compute the *average* loss across a **mini-batch** of **multiple** images, and take a step to optimize the **average** loss. The average loss across multiple training inputs is going to be less \"noisy\" than the loss for a single input, and is less likely to provide \"bad information\" because of a \"bad\" input.\n",
    "\n",
    "Batches can have different sizes:\n",
    "* one extreme is `batch_size` = 1: meaning that we compute the loss and update after EACH image (so we have 60,000 batches of size 1)\n",
    "* a `batch_size` = 60: means that, for 60,000 training images, we'll have 1000 batches of size 60\n",
    "* the other extreme is `batch_size` = 60,000: when we input ALL images and do 1 backpropagation (we have 1 batch of size 60,000 images)\n",
    "\n",
    "The actual batch size that we choose depends on many things. We want our batch size to be large enough to not be too \"noisy\", but not so large as to make each iteration too expensive to run.\n",
    "\n",
    "<img src='https://i.imgur.com/M6ZkRXa.png' width='400'>\n",
    "\n",
    "In the above example, instead of having 70 noisy losses we'll have just 7 averaged losses."
   ]
  },
  {
   "cell_type": "code",
   "execution_count": 11,
   "metadata": {},
   "outputs": [
    {
     "name": "stdout",
     "output_type": "stream",
     "text": [
      "trainloader object: <torch.utils.data.dataloader.DataLoader object at 0x7fe4fc396cd0> \n",
      "\n",
      "Object shape: torch.Size([60, 1, 28, 28])\n",
      "Label values: tensor([9, 3, 0, 1, 2, 4, 6, 8, 1, 1, 2, 3, 0, 7, 0, 0, 1, 3, 9, 4, 1, 1, 2, 9,\n",
      "        0, 0, 1, 4, 6, 2, 1, 3, 0, 8, 8, 1, 9, 5, 9, 0, 2, 8, 7, 2, 9, 5, 7, 1,\n",
      "        4, 1, 8, 6, 1, 8, 7, 0, 1, 3, 4, 3])\n",
      "Total Inages: torch.Size([60])\n"
     ]
    }
   ],
   "source": [
    "# Create trainloaders for train and test data\n",
    "# We put shuffle=True so the images shuffle after every epoch\n",
    "train_loader = torch.utils.data.DataLoader(mnist_train, batch_size=60, shuffle=True)\n",
    "test_loader = torch.utils.data.DataLoader(mnist_test, batch_size=10, shuffle=True)\n",
    "\n",
    "# Inspect Trainloader\n",
    "print('trainloader object:', train_loader, '\\n')\n",
    "\n",
    "# Select First Batch\n",
    "imgs, labels = next(iter(train_loader))\n",
    "\n",
    "print('Object shape:', imgs.shape)      # [60, 1, 28, 28]: 60 images of size [1, 28, 28]\n",
    "print('Label values:', labels)          # actual labels for the 60 images\n",
    "print('Total Inages:', labels.shape)    # 60 labels in total"
   ]
  },
  {
   "cell_type": "markdown",
   "execution_count": null,
   "metadata": {},
   "source": [
    "### 6.1.1 Training the Example Network on a batch instead of image by image:"
   ]
  },
  {
   "cell_type": "code",
   "execution_count": 12,
   "metadata": {},
   "outputs": [
    {
     "name": "stdout",
     "output_type": "stream",
     "text": [
      "========== Batch 0 :\n",
      "out shape: torch.Size([60, 10])\n",
      "loss: tensor(2.2846, grad_fn=<NllLossBackward>)\n",
      "Optimizing...\n",
      "Done.\n",
      "\n",
      "\n",
      "========== Batch 1 :\n",
      "out shape: torch.Size([60, 10])\n",
      "loss: tensor(2.3048, grad_fn=<NllLossBackward>)\n",
      "Optimizing...\n",
      "Done.\n",
      "\n",
      "\n",
      "========== Batch 2 :\n",
      "out shape: torch.Size([60, 10])\n",
      "loss: tensor(2.2765, grad_fn=<NllLossBackward>)\n",
      "Optimizing...\n",
      "Done.\n"
     ]
    }
   ],
   "source": [
    "torch.manual_seed(1) # set the random seed\n",
    "np.random.seed(1) #set random seed in numpy\n",
    "\n",
    "n = 0\n",
    "for k, (images, labels) in enumerate(train_loader):\n",
    "    # Stop after 3 iterations\n",
    "    if k >= 3:\n",
    "        break\n",
    "    \n",
    "    print('========== Batch', k, ':')\n",
    "    # Prediction:\n",
    "    out = model_example(images)\n",
    "    print('out shape:', out.shape)\n",
    "    \n",
    "    # Update weights (or parameters):\n",
    "    loss = criterion(out, labels)\n",
    "    print('loss:', loss)\n",
    "    \n",
    "    print('Optimizing...')\n",
    "    # Computes the gradient of current tensor\n",
    "    loss.backward()\n",
    "    # Performs a single optimization step.\n",
    "    optimizer.step()\n",
    "    # Clears the gradients of all optimized\n",
    "    optimizer.zero_grad()\n",
    "    print('Done.')    \n",
    "    \n",
    "    if k<2: print('\\n')"
   ]
  },
  {
   "cell_type": "markdown",
   "execution_count": null,
   "metadata": {},
   "source": [
    "## 6.2 Accuracy of the Classifier\n",
    "During Training, we would usually want to check for the accuracy of the model, to see how good or how bad is performing.\n",
    "\n",
    "<div class=\"alert alert-block alert-warning\"> \n",
    "<strong>Note</strong>: During <strong>training</strong>, it is highly important to set the model into training mode by calling <code>your_model.train()</code>. This enables gradients training, the Dropout() function etc. When you <strong>evaluate</strong> the model call <code>your_model.eval()</code>. This disables the gradients, Dropout() function etc and sets the model in evaluation mode.\n",
    "</div>"
   ]
  },
  {
   "cell_type": "code",
   "execution_count": 13,
   "metadata": {},
   "outputs": [
    {
     "name": "stdout",
     "output_type": "stream",
     "text": [
      "========== 0 :\n",
      "Out: torch.Size([60, 10])\n",
      "Prediction: torch.Size([60])\n",
      "Correct: 3\n",
      "Total: 60\n",
      "\n",
      "\n",
      "========== 1 :\n",
      "Out: torch.Size([60, 10])\n",
      "Prediction: torch.Size([60])\n",
      "Correct: 10\n",
      "Total: 120\n",
      "\n",
      "\n",
      "========== 2 :\n",
      "Out: torch.Size([60, 10])\n",
      "Prediction: torch.Size([60])\n",
      "Correct: 17\n",
      "Total: 180\n",
      "Average Accuracy after 3 iterations: 0.09444444444444444\n"
     ]
    }
   ],
   "source": [
    "# Instantiate 2 variables for total cases and correct cases\n",
    "correct_cases = 0\n",
    "total_cases = 0\n",
    "\n",
    "# Sets the module in evaluation mode (VERY IMPORTANT)\n",
    "model_example.eval()\n",
    "\n",
    "for k, (images, labels) in enumerate(train_loader):\n",
    "    # Just show first 3 batches accuracy\n",
    "    if k >= 3: break\n",
    "    \n",
    "    print('==========', k, ':')\n",
    "    out = model_example(images)\n",
    "    print('Out:', out.shape)\n",
    "    \n",
    "    # Choose maximum probability and then select only the label (not the prob number)\n",
    "    prediction = out.max(dim = 1)[1]\n",
    "    print('Prediction:', prediction.shape)\n",
    "    \n",
    "    # Number of correct cases - we first see how many are correct in the batch\n",
    "            # then we sum, then convert to integer (not tensor)\n",
    "    correct_cases += (prediction == labels).sum().item()\n",
    "    print('Correct:', correct_cases)\n",
    "    \n",
    "    # Total cases\n",
    "    total_cases += images.shape[0]\n",
    "    print('Total:', total_cases)\n",
    "    \n",
    "    \n",
    "    if k < 2: print('\\n')\n",
    "        \n",
    "\n",
    "print('Average Accuracy after 3 iterations:', correct_cases/total_cases)"
   ]
  },
  {
   "cell_type": "markdown",
   "execution_count": null,
   "metadata": {},
   "source": [
    "## 6.3 Iterations vs Epochs:\n",
    "\n",
    "**Iterations**: number of iterations is the number of times we *update* the weights (parameters) of the FNN. For example, above we did 3 iterations.\n",
    "\n",
    "**Epoch**: number of times *all* training data was used once to update the parameters. This is used because, in general, we would want to train the network for longer. Until now in this notebook we haven't completed yet a full epoch.\n",
    "\n",
    "## 6.4 Predefined Functions: Accuracy and Training Loop\n",
    "Now let's create some functions, so our trainin process will become easier:\n",
    "\n",
    "### 6.4.1 Predefined Accuracy Function:"
   ]
  },
  {
   "cell_type": "code",
   "execution_count": 14,
   "metadata": {},
   "outputs": [],
   "source": [
    "def get_accuracy(model, data, batchSize = 20):\n",
    "    '''Iterates through data and returnes average accuracy per batch.'''\n",
    "    # Sets the model in evaluation mode\n",
    "    model.eval()\n",
    "    \n",
    "    # Creates the dataloader\n",
    "    data_loader = torch.utils.data.DataLoader(data, batch_size=batchSize)\n",
    "    \n",
    "    correct_cases = 0\n",
    "    total_cases = 0\n",
    "    \n",
    "    for (images, labels) in iter(data_loader):\n",
    "        # Is formed by 20 images (by default) with 10 probabilities each\n",
    "        out = model(images)\n",
    "        # Choose maximum probability and then select only the label (not the prob number)\n",
    "        prediction = out.max(dim = 1)[1]\n",
    "        # First check how many are correct in the batch, then we sum then convert to integer (not tensor)\n",
    "        correct_cases += (prediction == labels).sum().item()\n",
    "        # Total cases\n",
    "        total_cases += images.shape[0]\n",
    "    \n",
    "    return correct_cases / total_cases"
   ]
  },
  {
   "cell_type": "markdown",
   "execution_count": null,
   "metadata": {},
   "source": [
    "### 6.4.2 Predefined Training Function\n",
    "\n",
    "<img src='https://i.imgur.com/S1miUl0.png' width=600>"
   ]
  },
  {
   "cell_type": "code",
   "execution_count": 15,
   "metadata": {},
   "outputs": [],
   "source": [
    "def train_network(model, train_data, test_data, batchSize=20, num_epochs=1, learning_rate=0.01, weight_decay=0,\n",
    "                 show_plot = True, show_acc = True):\n",
    "    \n",
    "    '''Trains the model and computes the average accuracy for train and test data.\n",
    "    If enabled, it also shows the loss and accuracy over the iterations.'''\n",
    "    \n",
    "    print('Get data ready...')\n",
    "    # Create dataloader for training dataset - so we can train on multiple batches\n",
    "    # Shuffle after every epoch\n",
    "    train_loader = torch.utils.data.DataLoader(dataset=train_data, batch_size=batchSize, shuffle=True)\n",
    "    \n",
    "    # Create criterion and optimizer\n",
    "    criterion = nn.CrossEntropyLoss()\n",
    "    optimizer = optim.SGD(model.parameters(), lr=learning_rate, momentum=0.9, weight_decay=weight_decay)\n",
    "    \n",
    "    # Losses & Iterations: to keep all losses during training (for plotting)\n",
    "    losses = []\n",
    "    iterations = []\n",
    "    # Train and test accuracies: to keep their values also (for plotting)\n",
    "    train_acc = []\n",
    "    test_acc = []\n",
    "    \n",
    "    print('Training started...')\n",
    "    iteration = 0\n",
    "    # Train the data multiple times\n",
    "    for epoch in range(num_epochs):\n",
    "        \n",
    "        for images, labels in iter(train_loader):\n",
    "            # Set model in training mode:\n",
    "            model.train()\n",
    "            \n",
    "            # Create log probabilities\n",
    "            out = model(images)\n",
    "            # Clears the gradients from previous iteration\n",
    "            optimizer.zero_grad()\n",
    "            # Computes loss: how far is the prediction from the actual?\n",
    "            loss = criterion(out, labels)\n",
    "            # Computes gradients for neurons\n",
    "            loss.backward()\n",
    "            # Updates the weights\n",
    "            optimizer.step()\n",
    "            \n",
    "            # Save information after this iteration\n",
    "            iterations.append(iteration)\n",
    "            iteration += 1\n",
    "            losses.append(loss)\n",
    "            # Compute accuracy after this epoch and save\n",
    "            train_acc.append(get_accuracy(model, train_data))\n",
    "            test_acc.append(get_accuracy(model, test_data))\n",
    "            \n",
    "    \n",
    "    # Show Accuracies\n",
    "    # Show the last accuracy registered\n",
    "    if show_acc:\n",
    "        print(\"Final Training Accuracy: {}\".format(train_acc[-1]))\n",
    "        print(\"Final Testing Accuracy: {}\".format(test_acc[-1]))\n",
    "    \n",
    "    # Create plots\n",
    "    if show_plot:\n",
    "        plt.figure(figsize=(10,4))\n",
    "        plt.subplot(1,2,1)\n",
    "        plt.title(\"Loss Curve\")\n",
    "        plt.plot(iterations[::20], losses[::20], label=\"Train\", linewidth=4, color='#008C76FF')\n",
    "        plt.xlabel(\"Iterations\")\n",
    "        plt.ylabel(\"Loss\")\n",
    "\n",
    "        plt.subplot(1,2,2)\n",
    "        plt.title(\"Accuracy Curve\")\n",
    "        plt.plot(iterations[::20], train_acc[::20], label=\"Train\", linewidth=4, color='#9ED9CCFF')\n",
    "        plt.plot(iterations[::20], test_acc[::20], label=\"Test\", linewidth=4, color='#FAA094FF')\n",
    "        plt.xlabel(\"Iterations\")\n",
    "        plt.ylabel(\"Accuracy\")\n",
    "        plt.legend(loc='best')\n",
    "        plt.show()"
   ]
  },
  {
   "cell_type": "markdown",
   "execution_count": null,
   "metadata": {},
   "source": [
    "# 7. Model Evaluation\n",
    "\n",
    "Now that we have our functions ready, we can start training on the ENTIRE dataset.\n",
    "\n",
    "But first, to make the training faster, we will:\n",
    "* select 500 training images and 500 testing images\n",
    "* `batch_size` will be by default set to 20 images/batch\n",
    "* we'll iterate through the data 200 times (`num_epochs`=200)"
   ]
  },
  {
   "cell_type": "code",
   "execution_count": 16,
   "metadata": {},
   "outputs": [
    {
     "name": "stdout",
     "output_type": "stream",
     "text": [
      "Get data ready...\n",
      "Training started...\n",
      "Final Training Accuracy: 1.0\n",
      "Final Testing Accuracy: 0.772\n"
     ]
    },
    {
     "data": {
      "image/png": "[encoded data removed]",
      "text/plain": [
       "<Figure size 720x288 with 2 Axes>"
      ]
     },
     "metadata": {
      "needs_background": "light"
     },
     "output_type": "display_data"
    }
   ],
   "source": [
    "# Select images\n",
    "mnist_data = datasets.MNIST('data', train = True, download=True, transform=transforms.ToTensor())\n",
    "mnist_data = list(mnist_data)\n",
    "\n",
    "# Training and Testing selection\n",
    "mnist_train = mnist_data[:500]     # 500 training images\n",
    "mnist_test = mnist_data[500:1000]  # 500 test images\n",
    "\n",
    "# Create Model Instance\n",
    "model1 = MNISTClassifier()\n",
    "\n",
    "# Train...\n",
    "train_network(model1, mnist_train, mnist_test, num_epochs=200)"
   ]
  },
  {
   "cell_type": "markdown",
   "execution_count": null,
   "metadata": {},
   "source": [
    "# 8. Overfitting\n",
    "\n",
    "As any other Machine Learning Model, Neural Nets can suffer from overfitting. Overfitting is when a neural network model learns about the quirks of the training data, rather than information that is generalizable to the task at hand.\n",
    "\n",
    "## 8.1 Data Augmentation\n",
    "Why try to collect more data when you can create some on your own? *Data Augmentation* generates more data points from our existing data set by:\n",
    "* Flipping each image horizontally or vertically (won't work for digit recognition, but might for other tasks)\n",
    "* Shifting each pixel a little to the left or right\n",
    "* Rotating the images a little\n",
    "* Adding noise to the image\n",
    "\n",
    "<img src='https://www.kdnuggets.com/wp-content/uploads/cats-data-augmentation.jpg' width='400'>\n",
    "\n",
    "For our example we'll rotate the images randomly up to 35 degrees."
   ]
  },
  {
   "cell_type": "code",
   "execution_count": 17,
   "metadata": {},
   "outputs": [
    {
     "data": {
      "image/png": "[encoded data removed]",
      "text/plain": [
       "<Figure size 720x144 with 20 Axes>"
      ]
     },
     "metadata": {
      "needs_background": "light"
     },
     "output_type": "display_data"
    },
    {
     "data": {
      "image/png": "[encoded data removed]",
      "text/plain": [
       "<Figure size 720x144 with 20 Axes>"
      ]
     },
     "metadata": {
      "needs_background": "light"
     },
     "output_type": "display_data"
    }
   ],
   "source": [
    "# Predefined Function that shows 20 images\n",
    "def show20(data, title='Default'):\n",
    "    plt.figure(figsize=(10,2))\n",
    "    for n, (image, label) in enumerate(data):\n",
    "        if n >= 20:\n",
    "            break\n",
    "        plt.subplot(2, 10, n+1)\n",
    "        plt.imshow(image)\n",
    "        plt.suptitle(title, fontsize=15);\n",
    "        \n",
    "\n",
    "# Create original and rotated set\n",
    "original_images = datasets.MNIST('data', train=True, download=True)\n",
    "rotated_images = datasets.MNIST('data', train=True, download=True, \n",
    "                                transform=transforms.RandomRotation(25, fill=(0,)))\n",
    "\n",
    "#Show images\n",
    "show20(original_images, 'Original')\n",
    "show20(rotated_images, 'Rotated')"
   ]
  },
  {
   "cell_type": "markdown",
   "execution_count": null,
   "metadata": {},
   "source": [
    "### 8.1.1 Training on Augmented Data:\n",
    "\n",
    "* `transforms.Normalize()`: means to scale the input features of a neural network, so that all features are scaled similarly. For images is not really necessary, as they all have the same structure, but I threw it here just for reference."
   ]
  },
  {
   "cell_type": "code",
   "execution_count": 18,
   "metadata": {},
   "outputs": [
    {
     "name": "stdout",
     "output_type": "stream",
     "text": [
      "Get data ready...\n",
      "Training started...\n",
      "Final Training Accuracy: 1.0\n",
      "Final Testing Accuracy: 0.684\n"
     ]
    },
    {
     "data": {
      "image/png": "[encoded data removed]",
      "text/plain": [
       "<Figure size 720x288 with 2 Axes>"
      ]
     },
     "metadata": {
      "needs_background": "light"
     },
     "output_type": "display_data"
    }
   ],
   "source": [
    "# Creating a personalized transform\n",
    "# First Rotates, then transforms to tensor, then normalizes the images\n",
    "mytransform = transforms.Compose([transforms.RandomRotation(25, fill=(0,)),\n",
    "                                  transforms.ToTensor(),\n",
    "                                 transforms.Normalize([0.5], [0.5])])\n",
    "\n",
    "# Import the MNIST data aplying the transformations\n",
    "mnist_data_aug = datasets.MNIST('data', train = True, download=True, transform=mytransform)\n",
    "mnist_data_aug = list(mnist_data_aug)\n",
    "\n",
    "# We select first 500 images as our training\n",
    "mnist_train_aug = mnist_data_aug[:500]\n",
    "\n",
    "# ------ Training the model ------\n",
    "# Create Model Instance\n",
    "model_aug = MNISTClassifier()\n",
    "\n",
    "# Train...\n",
    "train_network(model_aug, mnist_train_aug, mnist_test, num_epochs=200)"
   ]
  },
  {
   "cell_type": "markdown",
   "execution_count": null,
   "metadata": {},
   "source": [
    "## 8.2 Weight Decay and Learning Rate\n",
    "\n",
    "**Weight Decay**: The idea of weight decay is to *penalize large weights*. Large weights mean that the prediction relies heavily on the content of one or multiple pixels. So, we penalize them by adding and extra term to the `criterion` function.\n",
    "\n",
    "**Learning Rate**: This one is probably not new. In FNNs we train using gradient descent to update the weights. The learning rate *controls* [how much to change the model in response to the estimated error each time the model weights are updated](https://machinelearningmastery.com/understand-the-dynamics-of-learning-rate-on-deep-learning-neural-networks/). If we choose a lr too large we might overshoot the local minima, while using a lr too small we might wait longer for the model to train, as the steps are tinier.\n",
    "\n",
    "<img src='https://srdas.github.io/DLBook/DL_images/TNN2.png' width='400'>"
   ]
  },
  {
   "cell_type": "code",
   "execution_count": 19,
   "metadata": {},
   "outputs": [
    {
     "name": "stdout",
     "output_type": "stream",
     "text": [
      "Get data ready...\n",
      "Training started...\n",
      "Final Training Accuracy: 1.0\n",
      "Final Testing Accuracy: 0.774\n"
     ]
    },
    {
     "data": {
      "image/png": "[encoded data removed]",
      "text/plain": [
       "<Figure size 720x288 with 2 Axes>"
      ]
     },
     "metadata": {
      "needs_background": "light"
     },
     "output_type": "display_data"
    }
   ],
   "source": [
    "# Create Model Instance\n",
    "model2 = MNISTClassifier()\n",
    "\n",
    "# Train...\n",
    "train_network(model2, mnist_train, mnist_test, num_epochs=200, learning_rate=0.001, weight_decay=0.0005)"
   ]
  },
  {
   "cell_type": "markdown",
   "execution_count": null,
   "metadata": {},
   "source": [
    "## 8.3 Dropout() and Layer Optimization\n",
    "\n",
    "### 8.3.1 Dropout() Function\n",
    "This technique builds *many* models and then averages their prediction at test time (this is why it is very important to call `model.eval()` when we want to evaluate).\n",
    "\n",
    "For each model we **dropout** (drop out, zero out, remove etc.) a portion of neurons from each training iteration. Hence, in different iterations of training, we will drop out a different set of neurons.\n",
    "\n",
    "This way we prevent the weight from being overly dependent on eachother: for example for one weight to be unnecessarily large to compensate for another unnecessarily large weight with the opposite sign. In other words, weights are encouraged to be *strong and independent*.\n",
    "<img src='https://miro.medium.com/max/1200/1*iWQzxhVlvadk6VAJjsgXgg.png' width=400>\n",
    "\n",
    "\n",
    "### 8.3.2 Layer Optimization\n",
    "Our `MNISTClassifier()` had until now 3 layers with a fixed number on neurons in each layer. We can change that by making it changable during training, so eventually we can apply `Grid Search` and find the best combination possible.\n",
    "\n",
    "### 8.3.3 Changing the Structure of our MNISTClassifier()\n",
    "Now let's change our Neural Net a bit:\n",
    "* `nn.Dropout(p=0.4)`: each neuron has 40% chance of being dropped\n",
    "* `layer1_size`: size of the first hidden layer\n",
    "* `layer2_size`: size of the second hidden layer"
   ]
  },
  {
   "cell_type": "code",
   "execution_count": 20,
   "metadata": {},
   "outputs": [],
   "source": [
    "class MNISTClassifier_improved(nn.Module):\n",
    "    def __init__(self, layer1_size=50, layer2_size=20, dropout=0.4):       # Structure of the FNN \n",
    "        super(MNISTClassifier_improved, self).__init__()\n",
    "        \n",
    "        self.layers = nn.Sequential(nn.Dropout(p = dropout),               # Dropout for first layer\n",
    "                                    nn.Linear(28*28, layer1_size),         # From 784 neurons to layer1_size\n",
    "                                    nn.ReLU(),                             # Activation Function\n",
    "                                    nn.Dropout(p = dropout),               # Dropout for second layer\n",
    "                                    nn.Linear(layer1_size, layer2_size),   # From layer1_size neurons to layer2_size\n",
    "                                    nn.ReLU(),                             # Activation Function\n",
    "                                    nn.Dropout(p = dropout),               # Dropout for last layer\n",
    "                                    nn.Linear(layer2_size, 10))            # Output layer\n",
    "        \n",
    "    def forward(self, image):                # Taking the image through the NN\n",
    "        image = image.view(-1, 28*28)        # Flatten the matrix to a vector\n",
    "        out = self.layers(image)             # Log Probabilities output\n",
    "        \n",
    "        return out"
   ]
  },
  {
   "cell_type": "markdown",
   "execution_count": null,
   "metadata": {},
   "source": [
    "#### Improved Model Structure:\n",
    "<img src='https://i.imgur.com/m22zEqN.png' width='600'>"
   ]
  },
  {
   "cell_type": "code",
   "execution_count": 21,
   "metadata": {},
   "outputs": [
    {
     "name": "stdout",
     "output_type": "stream",
     "text": [
      "MNISTClassifier_improved(\n",
      "  (layers): Sequential(\n",
      "    (0): Dropout(p=0.5, inplace=False)\n",
      "    (1): Linear(in_features=784, out_features=80, bias=True)\n",
      "    (2): ReLU()\n",
      "    (3): Dropout(p=0.5, inplace=False)\n",
      "    (4): Linear(in_features=80, out_features=50, bias=True)\n",
      "    (5): ReLU()\n",
      "    (6): Dropout(p=0.5, inplace=False)\n",
      "    (7): Linear(in_features=50, out_features=10, bias=True)\n",
      "  )\n",
      ")\n",
      "Get data ready...\n",
      "Training started...\n",
      "Final Training Accuracy: 0.998\n",
      "Final Testing Accuracy: 0.856\n"
     ]
    },
    {
     "data": {
      "image/png": "[encoded data removed]",
      "text/plain": [
       "<Figure size 720x288 with 2 Axes>"
      ]
     },
     "metadata": {
      "needs_background": "light"
     },
     "output_type": "display_data"
    }
   ],
   "source": [
    "# Training on the newly network:\n",
    "# Create Model Instance\n",
    "model_improved = MNISTClassifier_improved(layer1_size=80, layer2_size=50, dropout=0.5)\n",
    "print(model_improved)\n",
    "\n",
    "# Train...\n",
    "train_network(model_improved, mnist_train, mnist_test, num_epochs=200)"
   ]
  },
  {
   "cell_type": "markdown",
   "execution_count": null,
   "metadata": {},
   "source": [
    "# 9. Bonuses:\n",
    "## 9.1 Confusion Matrix"
   ]
  },
  {
   "cell_type": "code",
   "execution_count": 22,
   "metadata": {},
   "outputs": [],
   "source": [
    "def get_confusion_matrix(model, test_data):\n",
    "    # First we make sure we disable Gradient Computing\n",
    "    torch.no_grad()\n",
    "    \n",
    "    # Model in Evaluation Mode\n",
    "    model.eval()\n",
    "    \n",
    "    preds, actuals = [], []\n",
    "\n",
    "    for image, label in mnist_test:\n",
    "        # Add 1 more dimension for batching\n",
    "        image = image.unsqueeze(0)\n",
    "        out = model_improved(image)\n",
    "\n",
    "        prediction = torch.max(out, dim=1)[1].item()\n",
    "        preds.append(prediction)\n",
    "        actuals.append(label)\n",
    "    \n",
    "    return sklearn.metrics.confusion_matrix(preds, actuals)"
   ]
  },
  {
   "cell_type": "code",
   "execution_count": 23,
   "metadata": {},
   "outputs": [
    {
     "data": {
      "image/png": "[encoded data removed]",
      "text/plain": [
       "<Figure size 1152x360 with 2 Axes>"
      ]
     },
     "metadata": {
      "needs_background": "light"
     },
     "output_type": "display_data"
    }
   ],
   "source": [
    "plt.figure(figsize=(16, 5))\n",
    "sns.heatmap(get_confusion_matrix(model_improved, mnist_test), cmap='icefire', annot=True, linewidths=0.1)\n",
    "plt.title('Confusion Matrix', fontsize=15);"
   ]
  },
  {
   "cell_type": "markdown",
   "execution_count": null,
   "metadata": {},
   "source": [
    "# Other \"How I taught myself Deep Learning\" Notebooks\n",
    "* [How I taught myself Deep Learning: ConvNet (CNNs)](https://www.kaggle.com/andradaolteanu/how-i-taught-myself-deep-learning-convnet-cnns)\n",
    "* [How I taught myself Deep Learning: Recurrent NNs](https://www.kaggle.com/andradaolteanu/how-i-taught-myself-deep-learning-recurrent-nns)\n",
    "\n",
    "If you have any questions, please do not hesitate to ask. This notebook is made to bring more clear understanding of concepts and coding, so this would also help me add, modify and improve it. \n",
    "\n",
    "<div class=\"alert alert-block alert-warning\"> \n",
    "<p>If you liked this, upvote!</p>\n",
    "<p>Cheers!</p>\n",
    "</div>"
   ]
  },
  {
   "cell_type": "markdown",
   "execution_count": null,
   "metadata": {},
   "source": [
    "# References:\n",
    "* [Create your own FNN](http://alexlenail.me/NN-SVG/index.html)\n",
    "* [WTF is a Tensor?](https://www.kdnuggets.com/2018/05/wtf-tensor.html)\n",
    "* [What the hell is a Perceptron?](https://towardsdatascience.com/what-the-hell-is-perceptron-626217814f53)\n",
    "* 3Blue1Brown videos:\n",
    "    * [But what is a Neural Network?](https://www.youtube.com/watch?v=aircAruvnKk&t=1007s)\n",
    "    * [What is Backpropagation really doing?](https://www.youtube.com/watch?v=Ilg3gGewQ5U&list=PLZHQObOWTQDNU6R1_67000Dx_ZCJB-3pi&index=3)\n",
    "    * [Gradient Descent, how Neural Networks learn](https://www.youtube.com/watch?v=IHZwWFHWa-w)\n",
    "* [All `torch.` functions (including loss & optimizer functions)](https://pytorch.org/docs/stable/nn.html)\n",
    "* [Impact of Learning Rate in NNs](https://machinelearningmastery.com/understand-the-dynamics-of-learning-rate-on-deep-learning-neural-networks/)"
   ]
  }
 ],
 "metadata": {
  "kernelspec": {
   "display_name": "Python 3",
   "language": "python",
   "name": "python3"
  },
  "language_info": {
   "codemirror_mode": {
    "name": "ipython",
    "version": 3
   },
   "file_extension": ".py",
   "mimetype": "text/x-python",
   "name": "python",
   "nbconvert_exporter": "python",
   "pygments_lexer": "ipython3",
   "version": "3.7.6"
  },
  "widgets": {
   "application/vnd.jupyter.widget-state+json": {
    "state": {
     "0d6f6816927d4005bf9a9943f97052c8": {
      "model_module": "@jupyter-widgets/base",
      "model_module_version": "1.2.0",
      "model_name": "LayoutModel",
      "state": {
       "_model_module": "@jupyter-widgets/base",
       "_model_module_version": "1.2.0",
       "_model_name": "LayoutModel",
       "_view_count": null,
       "_view_module": "@jupyter-widgets/base",
       "_view_module_version": "1.2.0",
       "_view_name": "LayoutView",
       "align_content": null,
       "align_items": null,
       "align_self": null,
       "border": null,
       "bottom": null,
       "display": null,
       "flex": null,
       "flex_flow": null,
       "grid_area": null,
       "grid_auto_columns": null,
       "grid_auto_flow": null,
       "grid_auto_rows": null,
       "grid_column": null,
       "grid_gap": null,
       "grid_row": null,
       "grid_template_areas": null,
       "grid_template_columns": null,
       "grid_template_rows": null,
       "height": null,
       "justify_content": null,
       "justify_items": null,
       "left": null,
       "margin": null,
       "max_height": null,
       "max_width": null,
       "min_height": null,
       "min_width": null,
       "object_fit": null,
       "object_position": null,
       "order": null,
       "overflow": null,
       "overflow_x": null,
       "overflow_y": null,
       "padding": null,
       "right": null,
       "top": null,
       "visibility": null,
       "width": null
      }
     },
     "1aa26d7ef89b470b84d2cfdbd3d7c397": {
      "model_module": "@jupyter-widgets/controls",
      "model_module_version": "1.5.0",
      "model_name": "DescriptionStyleModel",
      "state": {
       "_model_module": "@jupyter-widgets/controls",
       "_model_module_version": "1.5.0",
       "_model_name": "DescriptionStyleModel",
       "_view_count": null,
       "_view_module": "@jupyter-widgets/base",
       "_view_module_version": "1.2.0",
       "_view_name": "StyleView",
       "description_width": ""
      }
     },
     "221cb7ed26fe4264bf9c0cdb8a572202": {
      "model_module": "@jupyter-widgets/base",
      "model_module_version": "1.2.0",
      "model_name": "LayoutModel",
      "state": {
       "_model_module": "@jupyter-widgets/base",
       "_model_module_version": "1.2.0",
       "_model_name": "LayoutModel",
       "_view_count": null,
       "_view_module": "@jupyter-widgets/base",
       "_view_module_version": "1.2.0",
       "_view_name": "LayoutView",
       "align_content": null,
       "align_items": null,
       "align_self": null,
       "border": null,
       "bottom": null,
       "display": null,
       "flex": null,
       "flex_flow": null,
       "grid_area": null,
       "grid_auto_columns": null,
       "grid_auto_flow": null,
       "grid_auto_rows": null,
       "grid_column": null,
       "grid_gap": null,
       "grid_row": null,
       "grid_template_areas": null,
       "grid_template_columns": null,
       "grid_template_rows": null,
       "height": null,
       "justify_content": null,
       "justify_items": null,
       "left": null,
       "margin": null,
       "max_height": null,
       "max_width": null,
       "min_height": null,
       "min_width": null,
       "object_fit": null,
       "object_position": null,
       "order": null,
       "overflow": null,
       "overflow_x": null,
       "overflow_y": null,
       "padding": null,
       "right": null,
       "top": null,
       "visibility": null,
       "width": null
      }
     },
     "2705ef483eef4b11805abbe604415bbf": {
      "model_module": "@jupyter-widgets/base",
      "model_module_version": "1.2.0",
      "model_name": "LayoutModel",
      "state": {
       "_model_module": "@jupyter-widgets/base",
       "_model_module_version": "1.2.0",
       "_model_name": "LayoutModel",
       "_view_count": null,
       "_view_module": "@jupyter-widgets/base",
       "_view_module_version": "1.2.0",
       "_view_name": "LayoutView",
       "align_content": null,
       "align_items": null,
       "align_self": null,
       "border": null,
       "bottom": null,
       "display": null,
       "flex": null,
       "flex_flow": null,
       "grid_area": null,
       "grid_auto_columns": null,
       "grid_auto_flow": null,
       "grid_auto_rows": null,
       "grid_column": null,
       "grid_gap": null,
       "grid_row": null,
       "grid_template_areas": null,
       "grid_template_columns": null,
       "grid_template_rows": null,
       "height": null,
       "justify_content": null,
       "justify_items": null,
       "left": null,
       "margin": null,
       "max_height": null,
       "max_width": null,
       "min_height": null,
       "min_width": null,
       "object_fit": null,
       "object_position": null,
       "order": null,
       "overflow": null,
       "overflow_x": null,
       "overflow_y": null,
       "padding": null,
       "right": null,
       "top": null,
       "visibility": null,
       "width": null
      }
     },
     "27f6aaabcb1c4fd4a211a6329314c76c": {
      "model_module": "@jupyter-widgets/controls",
      "model_module_version": "1.5.0",
      "model_name": "DescriptionStyleModel",
      "state": {
       "_model_module": "@jupyter-widgets/controls",
       "_model_module_version": "1.5.0",
       "_model_name": "DescriptionStyleModel",
       "_view_count": null,
       "_view_module": "@jupyter-widgets/base",
       "_view_module_version": "1.2.0",
       "_view_name": "StyleView",
       "description_width": ""
      }
     },
     "2f3bf921df584304ac65c24e65141c14": {
      "model_module": "@jupyter-widgets/base",
      "model_module_version": "1.2.0",
      "model_name": "LayoutModel",
      "state": {
       "_model_module": "@jupyter-widgets/base",
       "_model_module_version": "1.2.0",
       "_model_name": "LayoutModel",
       "_view_count": null,
       "_view_module": "@jupyter-widgets/base",
       "_view_module_version": "1.2.0",
       "_view_name": "LayoutView",
       "align_content": null,
       "align_items": null,
       "align_self": null,
       "border": null,
       "bottom": null,
       "display": null,
       "flex": null,
       "flex_flow": null,
       "grid_area": null,
       "grid_auto_columns": null,
       "grid_auto_flow": null,
       "grid_auto_rows": null,
       "grid_column": null,
       "grid_gap": null,
       "grid_row": null,
       "grid_template_areas": null,
       "grid_template_columns": null,
       "grid_template_rows": null,
       "height": null,
       "justify_content": null,
       "justify_items": null,
       "left": null,
       "margin": null,
       "max_height": null,
       "max_width": null,
       "min_height": null,
       "min_width": null,
       "object_fit": null,
       "object_position": null,
       "order": null,
       "overflow": null,
       "overflow_x": null,
       "overflow_y": null,
       "padding": null,
       "right": null,
       "top": null,
       "visibility": null,
       "width": null
      }
     },
     "3b863f41af5f4dfb9716a183bdc33c29": {
      "model_module": "@jupyter-widgets/base",
      "model_module_version": "1.2.0",
      "model_name": "LayoutModel",
      "state": {
       "_model_module": "@jupyter-widgets/base",
       "_model_module_version": "1.2.0",
       "_model_name": "LayoutModel",
       "_view_count": null,
       "_view_module": "@jupyter-widgets/base",
       "_view_module_version": "1.2.0",
       "_view_name": "LayoutView",
       "align_content": null,
       "align_items": null,
       "align_self": null,
       "border": null,
       "bottom": null,
       "display": null,
       "flex": null,
       "flex_flow": null,
       "grid_area": null,
       "grid_auto_columns": null,
       "grid_auto_flow": null,
       "grid_auto_rows": null,
       "grid_column": null,
       "grid_gap": null,
       "grid_row": null,
       "grid_template_areas": null,
       "grid_template_columns": null,
       "grid_template_rows": null,
       "height": null,
       "justify_content": null,
       "justify_items": null,
       "left": null,
       "margin": null,
       "max_height": null,
       "max_width": null,
       "min_height": null,
       "min_width": null,
       "object_fit": null,
       "object_position": null,
       "order": null,
       "overflow": null,
       "overflow_x": null,
       "overflow_y": null,
       "padding": null,
       "right": null,
       "top": null,
       "visibility": null,
       "width": null
      }
     },
     "4b0228627a97477b9c2c419c2cd9284c": {
      "model_module": "@jupyter-widgets/controls",
      "model_module_version": "1.5.0",
      "model_name": "HTMLModel",
      "state": {
       "_dom_classes": [],
       "_model_module": "@jupyter-widgets/controls",
       "_model_module_version": "1.5.0",
       "_model_name": "HTMLModel",
       "_view_count": null,
       "_view_module": "@jupyter-widgets/controls",
       "_view_module_version": "1.5.0",
       "_view_name": "HTMLView",
       "description": "",
       "description_tooltip": null,
       "layout": "IPY_MODEL_0d6f6816927d4005bf9a9943f97052c8",
       "placeholder": "​",
       "style": "IPY_MODEL_8850f091e2954be39e89536f59760178",
       "value": " 1654784/? [00:00&lt;00:00, 5385413.57it/s]"
      }
     },
     "4c0b35f8a87d458995c8716ccbd00a6a": {
      "model_module": "@jupyter-widgets/controls",
      "model_module_version": "1.5.0",
      "model_name": "HBoxModel",
      "state": {
       "_dom_classes": [],
       "_model_module": "@jupyter-widgets/controls",
       "_model_module_version": "1.5.0",
       "_model_name": "HBoxModel",
       "_view_count": null,
       "_view_module": "@jupyter-widgets/controls",
       "_view_module_version": "1.5.0",
       "_view_name": "HBoxView",
       "box_style": "",
       "children": [
        "IPY_MODEL_4f6095049ab8443ea27339b6b18ee0fa",
        "IPY_MODEL_8d5e8054dee84cdf9922507d24d3c04b"
       ],
       "layout": "IPY_MODEL_70b7db35d17c4a98a87f2ccce61b915d"
      }
     },
     "4f6095049ab8443ea27339b6b18ee0fa": {
      "model_module": "@jupyter-widgets/controls",
      "model_module_version": "1.5.0",
      "model_name": "FloatProgressModel",
      "state": {
       "_dom_classes": [],
       "_model_module": "@jupyter-widgets/controls",
       "_model_module_version": "1.5.0",
       "_model_name": "FloatProgressModel",
       "_view_count": null,
       "_view_module": "@jupyter-widgets/controls",
       "_view_module_version": "1.5.0",
       "_view_name": "ProgressView",
       "bar_style": "success",
       "description": "",
       "description_tooltip": null,
       "layout": "IPY_MODEL_2705ef483eef4b11805abbe604415bbf",
       "max": 1.0,
       "min": 0.0,
       "orientation": "horizontal",
       "style": "IPY_MODEL_c6b0f058188548148d04949d0a200bac",
       "value": 1.0
      }
     },
     "57037506754d47dc8d99f5c348469bb5": {
      "model_module": "@jupyter-widgets/base",
      "model_module_version": "1.2.0",
      "model_name": "LayoutModel",
      "state": {
       "_model_module": "@jupyter-widgets/base",
       "_model_module_version": "1.2.0",
       "_model_name": "LayoutModel",
       "_view_count": null,
       "_view_module": "@jupyter-widgets/base",
       "_view_module_version": "1.2.0",
       "_view_name": "LayoutView",
       "align_content": null,
       "align_items": null,
       "align_self": null,
       "border": null,
       "bottom": null,
       "display": null,
       "flex": null,
       "flex_flow": null,
       "grid_area": null,
       "grid_auto_columns": null,
       "grid_auto_flow": null,
       "grid_auto_rows": null,
       "grid_column": null,
       "grid_gap": null,
       "grid_row": null,
       "grid_template_areas": null,
       "grid_template_columns": null,
       "grid_template_rows": null,
       "height": null,
       "justify_content": null,
       "justify_items": null,
       "left": null,
       "margin": null,
       "max_height": null,
       "max_width": null,
       "min_height": null,
       "min_width": null,
       "object_fit": null,
       "object_position": null,
       "order": null,
       "overflow": null,
       "overflow_x": null,
       "overflow_y": null,
       "padding": null,
       "right": null,
       "top": null,
       "visibility": null,
       "width": null
      }
     },
     "591e9628145143ea865361154ffa024d": {
      "model_module": "@jupyter-widgets/controls",
      "model_module_version": "1.5.0",
      "model_name": "HBoxModel",
      "state": {
       "_dom_classes": [],
       "_model_module": "@jupyter-widgets/controls",
       "_model_module_version": "1.5.0",
       "_model_name": "HBoxModel",
       "_view_count": null,
       "_view_module": "@jupyter-widgets/controls",
       "_view_module_version": "1.5.0",
       "_view_name": "HBoxView",
       "box_style": "",
       "children": [
        "IPY_MODEL_f2194d1942584a12b6fc6958da6227f6",
        "IPY_MODEL_891bea4d386c4d21beff8747021ee9ff"
       ],
       "layout": "IPY_MODEL_a3997a0fef454a1e9cae978330329a8a"
      }
     },
     "5afc33fc9be145ffb324390ee5a4189b": {
      "model_module": "@jupyter-widgets/controls",
      "model_module_version": "1.5.0",
      "model_name": "HTMLModel",
      "state": {
       "_dom_classes": [],
       "_model_module": "@jupyter-widgets/controls",
       "_model_module_version": "1.5.0",
       "_model_name": "HTMLModel",
       "_view_count": null,
       "_view_module": "@jupyter-widgets/controls",
       "_view_module_version": "1.5.0",
       "_view_name": "HTMLView",
       "description": "",
       "description_tooltip": null,
       "layout": "IPY_MODEL_57037506754d47dc8d99f5c348469bb5",
       "placeholder": "​",
       "style": "IPY_MODEL_27f6aaabcb1c4fd4a211a6329314c76c",
       "value": " 9920512/? [00:01&lt;00:00, 5668647.76it/s]"
      }
     },
     "68b590907c454d0d86f176daa89a04da": {
      "model_module": "@jupyter-widgets/base",
      "model_module_version": "1.2.0",
      "model_name": "LayoutModel",
      "state": {
       "_model_module": "@jupyter-widgets/base",
       "_model_module_version": "1.2.0",
       "_model_name": "LayoutModel",
       "_view_count": null,
       "_view_module": "@jupyter-widgets/base",
       "_view_module_version": "1.2.0",
       "_view_name": "LayoutView",
       "align_content": null,
       "align_items": null,
       "align_self": null,
       "border": null,
       "bottom": null,
       "display": null,
       "flex": null,
       "flex_flow": null,
       "grid_area": null,
       "grid_auto_columns": null,
       "grid_auto_flow": null,
       "grid_auto_rows": null,
       "grid_column": null,
       "grid_gap": null,
       "grid_row": null,
       "grid_template_areas": null,
       "grid_template_columns": null,
       "grid_template_rows": null,
       "height": null,
       "justify_content": null,
       "justify_items": null,
       "left": null,
       "margin": null,
       "max_height": null,
       "max_width": null,
       "min_height": null,
       "min_width": null,
       "object_fit": null,
       "object_position": null,
       "order": null,
       "overflow": null,
       "overflow_x": null,
       "overflow_y": null,
       "padding": null,
       "right": null,
       "top": null,
       "visibility": null,
       "width": null
      }
     },
     "70b7db35d17c4a98a87f2ccce61b915d": {
      "model_module": "@jupyter-widgets/base",
      "model_module_version": "1.2.0",
      "model_name": "LayoutModel",
      "state": {
       "_model_module": "@jupyter-widgets/base",
       "_model_module_version": "1.2.0",
       "_model_name": "LayoutModel",
       "_view_count": null,
       "_view_module": "@jupyter-widgets/base",
       "_view_module_version": "1.2.0",
       "_view_name": "LayoutView",
       "align_content": null,
       "align_items": null,
       "align_self": null,
       "border": null,
       "bottom": null,
       "display": null,
       "flex": null,
       "flex_flow": null,
       "grid_area": null,
       "grid_auto_columns": null,
       "grid_auto_flow": null,
       "grid_auto_rows": null,
       "grid_column": null,
       "grid_gap": null,
       "grid_row": null,
       "grid_template_areas": null,
       "grid_template_columns": null,
       "grid_template_rows": null,
       "height": null,
       "justify_content": null,
       "justify_items": null,
       "left": null,
       "margin": null,
       "max_height": null,
       "max_width": null,
       "min_height": null,
       "min_width": null,
       "object_fit": null,
       "object_position": null,
       "order": null,
       "overflow": null,
       "overflow_x": null,
       "overflow_y": null,
       "padding": null,
       "right": null,
       "top": null,
       "visibility": null,
       "width": null
      }
     },
     "73eed44fe98141a582855761be7768cc": {
      "model_module": "@jupyter-widgets/controls",
      "model_module_version": "1.5.0",
      "model_name": "ProgressStyleModel",
      "state": {
       "_model_module": "@jupyter-widgets/controls",
       "_model_module_version": "1.5.0",
       "_model_name": "ProgressStyleModel",
       "_view_count": null,
       "_view_module": "@jupyter-widgets/base",
       "_view_module_version": "1.2.0",
       "_view_name": "StyleView",
       "bar_color": null,
       "description_width": "initial"
      }
     },
     "77b296c83ec94a3cbdbce77f92dc969a": {
      "model_module": "@jupyter-widgets/controls",
      "model_module_version": "1.5.0",
      "model_name": "FloatProgressModel",
      "state": {
       "_dom_classes": [],
       "_model_module": "@jupyter-widgets/controls",
       "_model_module_version": "1.5.0",
       "_model_name": "FloatProgressModel",
       "_view_count": null,
       "_view_module": "@jupyter-widgets/controls",
       "_view_module_version": "1.5.0",
       "_view_name": "ProgressView",
       "bar_style": "success",
       "description": "",
       "description_tooltip": null,
       "layout": "IPY_MODEL_2f3bf921df584304ac65c24e65141c14",
       "max": 1.0,
       "min": 0.0,
       "orientation": "horizontal",
       "style": "IPY_MODEL_c1e4925ff1c442e19a489dd8ead83846",
       "value": 1.0
      }
     },
     "8850f091e2954be39e89536f59760178": {
      "model_module": "@jupyter-widgets/controls",
      "model_module_version": "1.5.0",
      "model_name": "DescriptionStyleModel",
      "state": {
       "_model_module": "@jupyter-widgets/controls",
       "_model_module_version": "1.5.0",
       "_model_name": "DescriptionStyleModel",
       "_view_count": null,
       "_view_module": "@jupyter-widgets/base",
       "_view_module_version": "1.2.0",
       "_view_name": "StyleView",
       "description_width": ""
      }
     },
     "891bea4d386c4d21beff8747021ee9ff": {
      "model_module": "@jupyter-widgets/controls",
      "model_module_version": "1.5.0",
      "model_name": "HTMLModel",
      "state": {
       "_dom_classes": [],
       "_model_module": "@jupyter-widgets/controls",
       "_model_module_version": "1.5.0",
       "_model_name": "HTMLModel",
       "_view_count": null,
       "_view_module": "@jupyter-widgets/controls",
       "_view_module_version": "1.5.0",
       "_view_name": "HTMLView",
       "description": "",
       "description_tooltip": null,
       "layout": "IPY_MODEL_3b863f41af5f4dfb9716a183bdc33c29",
       "placeholder": "​",
       "style": "IPY_MODEL_c966bdd5b5ee4718b62c4915b50988a7",
       "value": " 8192/? [00:00&lt;00:00, 17164.67it/s]"
      }
     },
     "8c8e8f74e00042b5a398fb13a4abe501": {
      "model_module": "@jupyter-widgets/controls",
      "model_module_version": "1.5.0",
      "model_name": "HBoxModel",
      "state": {
       "_dom_classes": [],
       "_model_module": "@jupyter-widgets/controls",
       "_model_module_version": "1.5.0",
       "_model_name": "HBoxModel",
       "_view_count": null,
       "_view_module": "@jupyter-widgets/controls",
       "_view_module_version": "1.5.0",
       "_view_name": "HBoxView",
       "box_style": "",
       "children": [
        "IPY_MODEL_77b296c83ec94a3cbdbce77f92dc969a",
        "IPY_MODEL_5afc33fc9be145ffb324390ee5a4189b"
       ],
       "layout": "IPY_MODEL_221cb7ed26fe4264bf9c0cdb8a572202"
      }
     },
     "8d5e8054dee84cdf9922507d24d3c04b": {
      "model_module": "@jupyter-widgets/controls",
      "model_module_version": "1.5.0",
      "model_name": "HTMLModel",
      "state": {
       "_dom_classes": [],
       "_model_module": "@jupyter-widgets/controls",
       "_model_module_version": "1.5.0",
       "_model_name": "HTMLModel",
       "_view_count": null,
       "_view_module": "@jupyter-widgets/controls",
       "_view_module_version": "1.5.0",
       "_view_name": "HTMLView",
       "description": "",
       "description_tooltip": null,
       "layout": "IPY_MODEL_aa6fca0e12b047bdb2e5b88a77b7f6ee",
       "placeholder": "​",
       "style": "IPY_MODEL_1aa26d7ef89b470b84d2cfdbd3d7c397",
       "value": " 32768/? [00:00&lt;00:00, 77167.51it/s]"
      }
     },
     "a3997a0fef454a1e9cae978330329a8a": {
      "model_module": "@jupyter-widgets/base",
      "model_module_version": "1.2.0",
      "model_name": "LayoutModel",
      "state": {
       "_model_module": "@jupyter-widgets/base",
       "_model_module_version": "1.2.0",
       "_model_name": "LayoutModel",
       "_view_count": null,
       "_view_module": "@jupyter-widgets/base",
       "_view_module_version": "1.2.0",
       "_view_name": "LayoutView",
       "align_content": null,
       "align_items": null,
       "align_self": null,
       "border": null,
       "bottom": null,
       "display": null,
       "flex": null,
       "flex_flow": null,
       "grid_area": null,
       "grid_auto_columns": null,
       "grid_auto_flow": null,
       "grid_auto_rows": null,
       "grid_column": null,
       "grid_gap": null,
       "grid_row": null,
       "grid_template_areas": null,
       "grid_template_columns": null,
       "grid_template_rows": null,
       "height": null,
       "justify_content": null,
       "justify_items": null,
       "left": null,
       "margin": null,
       "max_height": null,
       "max_width": null,
       "min_height": null,
       "min_width": null,
       "object_fit": null,
       "object_position": null,
       "order": null,
       "overflow": null,
       "overflow_x": null,
       "overflow_y": null,
       "padding": null,
       "right": null,
       "top": null,
       "visibility": null,
       "width": null
      }
     },
     "aa6fca0e12b047bdb2e5b88a77b7f6ee": {
      "model_module": "@jupyter-widgets/base",
      "model_module_version": "1.2.0",
      "model_name": "LayoutModel",
      "state": {
       "_model_module": "@jupyter-widgets/base",
       "_model_module_version": "1.2.0",
       "_model_name": "LayoutModel",
       "_view_count": null,
       "_view_module": "@jupyter-widgets/base",
       "_view_module_version": "1.2.0",
       "_view_name": "LayoutView",
       "align_content": null,
       "align_items": null,
       "align_self": null,
       "border": null,
       "bottom": null,
       "display": null,
       "flex": null,
       "flex_flow": null,
       "grid_area": null,
       "grid_auto_columns": null,
       "grid_auto_flow": null,
       "grid_auto_rows": null,
       "grid_column": null,
       "grid_gap": null,
       "grid_row": null,
       "grid_template_areas": null,
       "grid_template_columns": null,
       "grid_template_rows": null,
       "height": null,
       "justify_content": null,
       "justify_items": null,
       "left": null,
       "margin": null,
       "max_height": null,
       "max_width": null,
       "min_height": null,
       "min_width": null,
       "object_fit": null,
       "object_position": null,
       "order": null,
       "overflow": null,
       "overflow_x": null,
       "overflow_y": null,
       "padding": null,
       "right": null,
       "top": null,
       "visibility": null,
       "width": null
      }
     },
     "b5e9fffb34154c66a55285267d515d18": {
      "model_module": "@jupyter-widgets/controls",
      "model_module_version": "1.5.0",
      "model_name": "FloatProgressModel",
      "state": {
       "_dom_classes": [],
       "_model_module": "@jupyter-widgets/controls",
       "_model_module_version": "1.5.0",
       "_model_name": "FloatProgressModel",
       "_view_count": null,
       "_view_module": "@jupyter-widgets/controls",
       "_view_module_version": "1.5.0",
       "_view_name": "ProgressView",
       "bar_style": "success",
       "description": "",
       "description_tooltip": null,
       "layout": "IPY_MODEL_e836cb39691f4eea8d38aa78ce827622",
       "max": 1.0,
       "min": 0.0,
       "orientation": "horizontal",
       "style": "IPY_MODEL_73eed44fe98141a582855761be7768cc",
       "value": 1.0
      }
     },
     "bff21b2ade0741edbec5d976504a6b86": {
      "model_module": "@jupyter-widgets/base",
      "model_module_version": "1.2.0",
      "model_name": "LayoutModel",
      "state": {
       "_model_module": "@jupyter-widgets/base",
       "_model_module_version": "1.2.0",
       "_model_name": "LayoutModel",
       "_view_count": null,
       "_view_module": "@jupyter-widgets/base",
       "_view_module_version": "1.2.0",
       "_view_name": "LayoutView",
       "align_content": null,
       "align_items": null,
       "align_self": null,
       "border": null,
       "bottom": null,
       "display": null,
       "flex": null,
       "flex_flow": null,
       "grid_area": null,
       "grid_auto_columns": null,
       "grid_auto_flow": null,
       "grid_auto_rows": null,
       "grid_column": null,
       "grid_gap": null,
       "grid_row": null,
       "grid_template_areas": null,
       "grid_template_columns": null,
       "grid_template_rows": null,
       "height": null,
       "justify_content": null,
       "justify_items": null,
       "left": null,
       "margin": null,
       "max_height": null,
       "max_width": null,
       "min_height": null,
       "min_width": null,
       "object_fit": null,
       "object_position": null,
       "order": null,
       "overflow": null,
       "overflow_x": null,
       "overflow_y": null,
       "padding": null,
       "right": null,
       "top": null,
       "visibility": null,
       "width": null
      }
     },
     "c1e4925ff1c442e19a489dd8ead83846": {
      "model_module": "@jupyter-widgets/controls",
      "model_module_version": "1.5.0",
      "model_name": "ProgressStyleModel",
      "state": {
       "_model_module": "@jupyter-widgets/controls",
       "_model_module_version": "1.5.0",
       "_model_name": "ProgressStyleModel",
       "_view_count": null,
       "_view_module": "@jupyter-widgets/base",
       "_view_module_version": "1.2.0",
       "_view_name": "StyleView",
       "bar_color": null,
       "description_width": "initial"
      }
     },
     "c6b0f058188548148d04949d0a200bac": {
      "model_module": "@jupyter-widgets/controls",
      "model_module_version": "1.5.0",
      "model_name": "ProgressStyleModel",
      "state": {
       "_model_module": "@jupyter-widgets/controls",
       "_model_module_version": "1.5.0",
       "_model_name": "ProgressStyleModel",
       "_view_count": null,
       "_view_module": "@jupyter-widgets/base",
       "_view_module_version": "1.2.0",
       "_view_name": "StyleView",
       "bar_color": null,
       "description_width": "initial"
      }
     },
     "c966bdd5b5ee4718b62c4915b50988a7": {
      "model_module": "@jupyter-widgets/controls",
      "model_module_version": "1.5.0",
      "model_name": "DescriptionStyleModel",
      "state": {
       "_model_module": "@jupyter-widgets/controls",
       "_model_module_version": "1.5.0",
       "_model_name": "DescriptionStyleModel",
       "_view_count": null,
       "_view_module": "@jupyter-widgets/base",
       "_view_module_version": "1.2.0",
       "_view_name": "StyleView",
       "description_width": ""
      }
     },
     "d78c2c2091814101a2d3b8caae780cc3": {
      "model_module": "@jupyter-widgets/controls",
      "model_module_version": "1.5.0",
      "model_name": "ProgressStyleModel",
      "state": {
       "_model_module": "@jupyter-widgets/controls",
       "_model_module_version": "1.5.0",
       "_model_name": "ProgressStyleModel",
       "_view_count": null,
       "_view_module": "@jupyter-widgets/base",
       "_view_module_version": "1.2.0",
       "_view_name": "StyleView",
       "bar_color": null,
       "description_width": "initial"
      }
     },
     "e836cb39691f4eea8d38aa78ce827622": {
      "model_module": "@jupyter-widgets/base",
      "model_module_version": "1.2.0",
      "model_name": "LayoutModel",
      "state": {
       "_model_module": "@jupyter-widgets/base",
       "_model_module_version": "1.2.0",
       "_model_name": "LayoutModel",
       "_view_count": null,
       "_view_module": "@jupyter-widgets/base",
       "_view_module_version": "1.2.0",
       "_view_name": "LayoutView",
       "align_content": null,
       "align_items": null,
       "align_self": null,
       "border": null,
       "bottom": null,
       "display": null,
       "flex": null,
       "flex_flow": null,
       "grid_area": null,
       "grid_auto_columns": null,
       "grid_auto_flow": null,
       "grid_auto_rows": null,
       "grid_column": null,
       "grid_gap": null,
       "grid_row": null,
       "grid_template_areas": null,
       "grid_template_columns": null,
       "grid_template_rows": null,
       "height": null,
       "justify_content": null,
       "justify_items": null,
       "left": null,
       "margin": null,
       "max_height": null,
       "max_width": null,
       "min_height": null,
       "min_width": null,
       "object_fit": null,
       "object_position": null,
       "order": null,
       "overflow": null,
       "overflow_x": null,
       "overflow_y": null,
       "padding": null,
       "right": null,
       "top": null,
       "visibility": null,
       "width": null
      }
     },
     "f164b42e248e45a8aa2d0de24d2d32d3": {
      "model_module": "@jupyter-widgets/controls",
      "model_module_version": "1.5.0",
      "model_name": "HBoxModel",
      "state": {
       "_dom_classes": [],
       "_model_module": "@jupyter-widgets/controls",
       "_model_module_version": "1.5.0",
       "_model_name": "HBoxModel",
       "_view_count": null,
       "_view_module": "@jupyter-widgets/controls",
       "_view_module_version": "1.5.0",
       "_view_name": "HBoxView",
       "box_style": "",
       "children": [
        "IPY_MODEL_b5e9fffb34154c66a55285267d515d18",
        "IPY_MODEL_4b0228627a97477b9c2c419c2cd9284c"
       ],
       "layout": "IPY_MODEL_bff21b2ade0741edbec5d976504a6b86"
      }
     },
     "f2194d1942584a12b6fc6958da6227f6": {
      "model_module": "@jupyter-widgets/controls",
      "model_module_version": "1.5.0",
      "model_name": "FloatProgressModel",
      "state": {
       "_dom_classes": [],
       "_model_module": "@jupyter-widgets/controls",
       "_model_module_version": "1.5.0",
       "_model_name": "FloatProgressModel",
       "_view_count": null,
       "_view_module": "@jupyter-widgets/controls",
       "_view_module_version": "1.5.0",
       "_view_name": "ProgressView",
       "bar_style": "success",
       "description": "",
       "description_tooltip": null,
       "layout": "IPY_MODEL_68b590907c454d0d86f176daa89a04da",
       "max": 1.0,
       "min": 0.0,
       "orientation": "horizontal",
       "style": "IPY_MODEL_d78c2c2091814101a2d3b8caae780cc3",
       "value": 1.0
      }
     }
    },
    "version_major": 2,
    "version_minor": 0
   }
  }
 },
 "nbformat": 4,
 "nbformat_minor": 4
}
